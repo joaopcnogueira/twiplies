{
 "cells": [
  {
   "cell_type": "code",
   "execution_count": null,
   "metadata": {},
   "outputs": [],
   "source": [
    "#| default_exp core"
   ]
  },
  {
   "cell_type": "code",
   "execution_count": null,
   "metadata": {},
   "outputs": [
    {
     "name": "stdout",
     "output_type": "stream",
     "text": [
      "The autoreload extension is already loaded. To reload it, use:\n",
      "  %reload_ext autoreload\n"
     ]
    }
   ],
   "source": [
    "#|hide\n",
    "%load_ext autoreload\n",
    "%autoreload 2"
   ]
  },
  {
   "cell_type": "markdown",
   "metadata": {},
   "source": [
    "# Twiplies\n",
    "\n",
    "> Core functionality."
   ]
  },
  {
   "cell_type": "code",
   "execution_count": null,
   "metadata": {},
   "outputs": [],
   "source": [
    "#|hide\n",
    "from nbdev.showdoc import *"
   ]
  },
  {
   "cell_type": "markdown",
   "metadata": {},
   "source": [
    "# Core"
   ]
  },
  {
   "cell_type": "code",
   "execution_count": null,
   "metadata": {},
   "outputs": [],
   "source": [
    "#|export\n",
    "import tweepy\n",
    "from fastcore.utils import *\n",
    "from fastcore.test import *\n",
    "from twiplies.io.build_dataframe import build_dataframe\n",
    "\n",
    "class Twiplies:\n",
    "    \"Instantiate a Tweepy object to fetch tweets replies.\"\n",
    "    def __init__(self, \n",
    "                 username: str, # twitter's account username\n",
    "                 consumer_key: str, # twitter's account consumer_key\n",
    "                 consumer_secret: str, # twiter's account consumer_secret\n",
    "                 access_token: str, # twitter's account access_token\n",
    "                 access_token_secret: str): # twitter's account access_token_secret \n",
    "        store_attr()\n",
    "        self.auth = tweepy.OAuthHandler(self.consumer_key, self.consumer_secret)\n",
    "        self.auth.set_access_token(self.access_token, self.access_token_secret)\n",
    "        self.api = tweepy.API(self.auth)\n",
    "    def __str__(self): return f\"{self.username}\"\n",
    "    __repr__ = __str__\n",
    "    def __eq__(self, a): return self.username == a.username\n",
    "\n",
    "    def get_replies_from_tweet(self, \n",
    "                               tweet_id: str, # tweet id, you can get it from the last part of the tweet url\n",
    "                               n_tweets: int): # number of tweets to fetch \n",
    "        \"Get replies from a specfic tweet.\"\n",
    "        tweet_ids = []\n",
    "        replies = []\n",
    "        for tweet in tweepy.Cursor(self.api.search_tweets, q='to:'+self.username, result_type='recent').items(n_tweets):\n",
    "            if hasattr(tweet, 'in_reply_to_status_id_str'):\n",
    "                if (tweet.in_reply_to_status_id_str==tweet_id):\n",
    "                    tweet_ids.append(tweet.in_reply_to_status_id_str)\n",
    "                    replies.append(tweet)\n",
    "\n",
    "        df = build_dataframe(tweet_ids, replies)\n",
    "        return df\n",
    "\n",
    "    def get_all_replies(self,\n",
    "                        n_tweets: int): # number of tweets to fetch\n",
    "        \"Get all replies from `n_tweets`\"\n",
    "        tweet_ids = []\n",
    "        replies = []\n",
    "        for tweet in tweepy.Cursor(self.api.search_tweets, q='to:'+self.username, result_type='recent').items(n_tweets):\n",
    "            if hasattr(tweet, 'in_reply_to_status_id_str'):\n",
    "                tweet_ids.append(tweet.in_reply_to_status_id_str)\n",
    "                replies.append(tweet)\n",
    "\n",
    "        df = build_dataframe(tweet_ids, replies)\n",
    "        return df"
   ]
  },
  {
   "cell_type": "code",
   "execution_count": null,
   "metadata": {},
   "outputs": [
    {
     "data": {
      "text/markdown": [
       "---\n",
       "\n",
       "### Twiplies\n",
       "\n",
       ">      Twiplies (username:str, consumer_key:str, consumer_secret:str,\n",
       ">                access_token:str, access_token_secret:str)\n",
       "\n",
       "Instantiate a Tweepy object to fetch tweets replies.\n",
       "\n",
       "|    | **Type** | **Details** |\n",
       "| -- | -------- | ----------- |\n",
       "| username | str | twitter's account username |\n",
       "| consumer_key | str | twitter's account consumer_key |\n",
       "| consumer_secret | str | twiter's account consumer_secret |\n",
       "| access_token | str | twitter's account access_token |\n",
       "| access_token_secret | str | twitter's account access_token_secret |"
      ],
      "text/plain": [
       "<nbdev.showdoc.BasicMarkdownRenderer at 0x13e6b58e0>"
      ]
     },
     "execution_count": null,
     "metadata": {},
     "output_type": "execute_result"
    }
   ],
   "source": [
    "show_doc(Twiplies)"
   ]
  },
  {
   "cell_type": "code",
   "execution_count": null,
   "metadata": {},
   "outputs": [
    {
     "data": {
      "text/markdown": [
       "---\n",
       "\n",
       "#### Twiplies.get_replies_from_tweet\n",
       "\n",
       ">      Twiplies.get_replies_from_tweet (tweet_id:str, n_tweets:int)\n",
       "\n",
       "Get replies from a specfic tweet.\n",
       "\n",
       "|    | **Type** | **Details** |\n",
       "| -- | -------- | ----------- |\n",
       "| tweet_id | str | tweet id, you can get it from the last part of the tweet url |\n",
       "| n_tweets | int | number of tweets to fetch |"
      ],
      "text/plain": [
       "<nbdev.showdoc.BasicMarkdownRenderer at 0x13e6b4e80>"
      ]
     },
     "execution_count": null,
     "metadata": {},
     "output_type": "execute_result"
    }
   ],
   "source": [
    "show_doc(Twiplies.get_replies_from_tweet)"
   ]
  },
  {
   "cell_type": "code",
   "execution_count": null,
   "metadata": {},
   "outputs": [
    {
     "data": {
      "text/markdown": [
       "---\n",
       "\n",
       "#### Twiplies.get_all_replies\n",
       "\n",
       ">      Twiplies.get_all_replies (n_tweets:int)\n",
       "\n",
       "Get all replies from `n_tweets`\n",
       "\n",
       "|    | **Type** | **Details** |\n",
       "| -- | -------- | ----------- |\n",
       "| n_tweets | int | number of tweets to fetch |"
      ],
      "text/plain": [
       "<nbdev.showdoc.BasicMarkdownRenderer at 0x13e6b56d0>"
      ]
     },
     "execution_count": null,
     "metadata": {},
     "output_type": "execute_result"
    }
   ],
   "source": [
    "show_doc(Twiplies.get_all_replies)"
   ]
  },
  {
   "cell_type": "markdown",
   "metadata": {},
   "source": [
    "# Tests"
   ]
  },
  {
   "cell_type": "code",
   "execution_count": null,
   "metadata": {},
   "outputs": [],
   "source": [
    "import os\n",
    "from dotenv import load_dotenv\n",
    "\n",
    "load_dotenv()\n",
    "\n",
    "robot1 = Twiplies(\n",
    "    username=\"joaopcnogueira\",\n",
    "    consumer_key=os.getenv(\"CONSUMER_KEY\"),\n",
    "    consumer_secret=os.getenv(\"CONSUMER_SECRET\"),\n",
    "    access_token=os.getenv(\"ACCESS_TOKEN\"),\n",
    "    access_token_secret=os.getenv(\"ACCESS_TOKEN_SECRET\")\n",
    ")\n",
    "\n",
    "robot2 = Twiplies(\n",
    "    username=\"joaopcnogueira\",\n",
    "    consumer_key=os.getenv(\"CONSUMER_KEY\"),\n",
    "    consumer_secret=os.getenv(\"CONSUMER_SECRET\"),\n",
    "    access_token=os.getenv(\"ACCESS_TOKEN\"),\n",
    "    access_token_secret=os.getenv(\"ACCESS_TOKEN_SECRET\")\n",
    ")\n",
    "\n",
    "robot3 = Twiplies(\n",
    "    username=\"mamede86\",\n",
    "    consumer_key=os.getenv(\"CONSUMER_KEY\"),\n",
    "    consumer_secret=os.getenv(\"CONSUMER_SECRET\"),\n",
    "    access_token=os.getenv(\"ACCESS_TOKEN\"),\n",
    "    access_token_secret=os.getenv(\"ACCESS_TOKEN_SECRET\")\n",
    ")"
   ]
  },
  {
   "cell_type": "code",
   "execution_count": null,
   "metadata": {},
   "outputs": [],
   "source": [
    "test_eq(robot1, robot2)"
   ]
  },
  {
   "cell_type": "code",
   "execution_count": null,
   "metadata": {},
   "outputs": [],
   "source": [
    "test_ne(robot1, robot3)"
   ]
  },
  {
   "cell_type": "code",
   "execution_count": null,
   "metadata": {},
   "outputs": [],
   "source": [
    "test_ne(robot2, robot3)"
   ]
  },
  {
   "cell_type": "markdown",
   "metadata": {},
   "source": [
    "# How to Use\n",
    "Example on how to use `twiplies`:"
   ]
  },
  {
   "cell_type": "code",
   "execution_count": null,
   "metadata": {},
   "outputs": [],
   "source": [
    "#|eval: false\n",
    "from dotenv import load_dotenv\n",
    "\n",
    "load_dotenv()\n",
    "\n",
    "robot = Twiplies(\n",
    "    username=\"joaopcnogueira\",\n",
    "    consumer_key=os.getenv(\"CONSUMER_KEY\"),\n",
    "    consumer_secret=os.getenv(\"CONSUMER_SECRET\"),\n",
    "    access_token=os.getenv(\"ACCESS_TOKEN\"),\n",
    "    access_token_secret=os.getenv(\"ACCESS_TOKEN_SECRET\")\n",
    ")"
   ]
  },
  {
   "cell_type": "code",
   "execution_count": null,
   "metadata": {},
   "outputs": [
    {
     "data": {
      "text/html": [
       "<div>\n",
       "<style scoped>\n",
       "    .dataframe tbody tr th:only-of-type {\n",
       "        vertical-align: middle;\n",
       "    }\n",
       "\n",
       "    .dataframe tbody tr th {\n",
       "        vertical-align: top;\n",
       "    }\n",
       "\n",
       "    .dataframe thead th {\n",
       "        text-align: right;\n",
       "    }\n",
       "</style>\n",
       "<table border=\"1\" class=\"dataframe\">\n",
       "  <thead>\n",
       "    <tr style=\"text-align: right;\">\n",
       "      <th></th>\n",
       "      <th>tweet_original</th>\n",
       "      <th>tweet_replies</th>\n",
       "      <th>tweet_user</th>\n",
       "      <th>tweet_location</th>\n",
       "    </tr>\n",
       "  </thead>\n",
       "  <tbody>\n",
       "    <tr>\n",
       "      <th>0</th>\n",
       "      <td>1550283468990472194</td>\n",
       "      <td>@joaopcnogueira Conte comigo deputado</td>\n",
       "      <td>mamede86</td>\n",
       "      <td>São Paulo, Brasil</td>\n",
       "    </tr>\n",
       "    <tr>\n",
       "      <th>1</th>\n",
       "      <td>1550283468990472194</td>\n",
       "      <td>@joaopcnogueira Cara pálida vou votar em vc</td>\n",
       "      <td>mamede86</td>\n",
       "      <td>São Paulo, Brasil</td>\n",
       "    </tr>\n",
       "    <tr>\n",
       "      <th>2</th>\n",
       "      <td>1550283468990472194</td>\n",
       "      <td>@joaopcnogueira O João é escroto. Hahahaha</td>\n",
       "      <td>mamede86</td>\n",
       "      <td>São Paulo, Brasil</td>\n",
       "    </tr>\n",
       "    <tr>\n",
       "      <th>3</th>\n",
       "      <td>1550283468990472194</td>\n",
       "      <td>@joaopcnogueira O João é bacana</td>\n",
       "      <td>mamede86</td>\n",
       "      <td>São Paulo, Brasil</td>\n",
       "    </tr>\n",
       "    <tr>\n",
       "      <th>4</th>\n",
       "      <td>1550283468990472194</td>\n",
       "      <td>@joaopcnogueira O João é bacanoa</td>\n",
       "      <td>mamede86</td>\n",
       "      <td>São Paulo, Brasil</td>\n",
       "    </tr>\n",
       "    <tr>\n",
       "      <th>5</th>\n",
       "      <td>1550283468990472194</td>\n",
       "      <td>@joaopcnogueira Novo teste de tweet</td>\n",
       "      <td>mamede86</td>\n",
       "      <td>São Paulo, Brasil</td>\n",
       "    </tr>\n",
       "  </tbody>\n",
       "</table>\n",
       "</div>"
      ],
      "text/plain": [
       "        tweet_original                                tweet_replies  \\\n",
       "0  1550283468990472194        @joaopcnogueira Conte comigo deputado   \n",
       "1  1550283468990472194  @joaopcnogueira Cara pálida vou votar em vc   \n",
       "2  1550283468990472194   @joaopcnogueira O João é escroto. Hahahaha   \n",
       "3  1550283468990472194              @joaopcnogueira O João é bacana   \n",
       "4  1550283468990472194             @joaopcnogueira O João é bacanoa   \n",
       "5  1550283468990472194          @joaopcnogueira Novo teste de tweet   \n",
       "\n",
       "  tweet_user     tweet_location  \n",
       "0   mamede86  São Paulo, Brasil  \n",
       "1   mamede86  São Paulo, Brasil  \n",
       "2   mamede86  São Paulo, Brasil  \n",
       "3   mamede86  São Paulo, Brasil  \n",
       "4   mamede86  São Paulo, Brasil  \n",
       "5   mamede86  São Paulo, Brasil  "
      ]
     },
     "execution_count": null,
     "metadata": {},
     "output_type": "execute_result"
    }
   ],
   "source": [
    "#|eval: false\n",
    "robot.get_replies_from_tweet(tweet_id='1550283468990472194', n_tweets=100)"
   ]
  },
  {
   "cell_type": "code",
   "execution_count": null,
   "metadata": {},
   "outputs": [
    {
     "data": {
      "text/html": [
       "<div>\n",
       "<style scoped>\n",
       "    .dataframe tbody tr th:only-of-type {\n",
       "        vertical-align: middle;\n",
       "    }\n",
       "\n",
       "    .dataframe tbody tr th {\n",
       "        vertical-align: top;\n",
       "    }\n",
       "\n",
       "    .dataframe thead th {\n",
       "        text-align: right;\n",
       "    }\n",
       "</style>\n",
       "<table border=\"1\" class=\"dataframe\">\n",
       "  <thead>\n",
       "    <tr style=\"text-align: right;\">\n",
       "      <th></th>\n",
       "      <th>tweet_original</th>\n",
       "      <th>tweet_replies</th>\n",
       "      <th>tweet_user</th>\n",
       "      <th>tweet_location</th>\n",
       "    </tr>\n",
       "  </thead>\n",
       "  <tbody>\n",
       "    <tr>\n",
       "      <th>0</th>\n",
       "      <td>1553619245552091136</td>\n",
       "      <td>@jeremyphoward Did I forgot to mention all of ...</td>\n",
       "      <td>joaopcnogueira</td>\n",
       "      <td></td>\n",
       "    </tr>\n",
       "    <tr>\n",
       "      <th>1</th>\n",
       "      <td>1553412331845160962</td>\n",
       "      <td>@joaopcnogueira @arnaldog12_ Olha só, não esta...</td>\n",
       "      <td>apachaves</td>\n",
       "      <td>France</td>\n",
       "    </tr>\n",
       "    <tr>\n",
       "      <th>2</th>\n",
       "      <td>1552333709717786625</td>\n",
       "      <td>@joaopcnogueira 🥲</td>\n",
       "      <td>mribeirodantas</td>\n",
       "      <td>Natal, Brazil🇧🇷</td>\n",
       "    </tr>\n",
       "    <tr>\n",
       "      <th>3</th>\n",
       "      <td>1552112385065877504</td>\n",
       "      <td>@joaopcnogueira não 😣</td>\n",
       "      <td>annppn</td>\n",
       "      <td>Rio de Janeiro, Brazil</td>\n",
       "    </tr>\n",
       "    <tr>\n",
       "      <th>4</th>\n",
       "      <td>1552109783393751042</td>\n",
       "      <td>@joaopcnogueira Sim! O carregador não posso ma...</td>\n",
       "      <td>annppn</td>\n",
       "      <td>Rio de Janeiro, Brazil</td>\n",
       "    </tr>\n",
       "    <tr>\n",
       "      <th>5</th>\n",
       "      <td>1550922456625463296</td>\n",
       "      <td>@joaopcnogueira Salam, here is your unroll: ht...</td>\n",
       "      <td>UnrollHelper</td>\n",
       "      <td></td>\n",
       "    </tr>\n",
       "    <tr>\n",
       "      <th>6</th>\n",
       "      <td>1550283468990472194</td>\n",
       "      <td>@joaopcnogueira Conte comigo deputado</td>\n",
       "      <td>mamede86</td>\n",
       "      <td>São Paulo, Brasil</td>\n",
       "    </tr>\n",
       "    <tr>\n",
       "      <th>7</th>\n",
       "      <td>1550283468990472194</td>\n",
       "      <td>@joaopcnogueira Cara pálida vou votar em vc</td>\n",
       "      <td>mamede86</td>\n",
       "      <td>São Paulo, Brasil</td>\n",
       "    </tr>\n",
       "    <tr>\n",
       "      <th>8</th>\n",
       "      <td>1550283468990472194</td>\n",
       "      <td>@joaopcnogueira O João é escroto. Hahahaha</td>\n",
       "      <td>mamede86</td>\n",
       "      <td>São Paulo, Brasil</td>\n",
       "    </tr>\n",
       "    <tr>\n",
       "      <th>9</th>\n",
       "      <td>1550283468990472194</td>\n",
       "      <td>@joaopcnogueira O João é bacana</td>\n",
       "      <td>mamede86</td>\n",
       "      <td>São Paulo, Brasil</td>\n",
       "    </tr>\n",
       "    <tr>\n",
       "      <th>10</th>\n",
       "      <td>1550283468990472194</td>\n",
       "      <td>@joaopcnogueira O João é bacanoa</td>\n",
       "      <td>mamede86</td>\n",
       "      <td>São Paulo, Brasil</td>\n",
       "    </tr>\n",
       "    <tr>\n",
       "      <th>11</th>\n",
       "      <td>1550283468990472194</td>\n",
       "      <td>@joaopcnogueira Novo teste de tweet</td>\n",
       "      <td>mamede86</td>\n",
       "      <td>São Paulo, Brasil</td>\n",
       "    </tr>\n",
       "    <tr>\n",
       "      <th>12</th>\n",
       "      <td>1549897550953603074</td>\n",
       "      <td>@joaopcnogueira Novo qteste do tweet</td>\n",
       "      <td>mamede86</td>\n",
       "      <td>São Paulo, Brasil</td>\n",
       "    </tr>\n",
       "  </tbody>\n",
       "</table>\n",
       "</div>"
      ],
      "text/plain": [
       "         tweet_original                                      tweet_replies  \\\n",
       "0   1553619245552091136  @jeremyphoward Did I forgot to mention all of ...   \n",
       "1   1553412331845160962  @joaopcnogueira @arnaldog12_ Olha só, não esta...   \n",
       "2   1552333709717786625                                  @joaopcnogueira 🥲   \n",
       "3   1552112385065877504                              @joaopcnogueira não 😣   \n",
       "4   1552109783393751042  @joaopcnogueira Sim! O carregador não posso ma...   \n",
       "5   1550922456625463296  @joaopcnogueira Salam, here is your unroll: ht...   \n",
       "6   1550283468990472194              @joaopcnogueira Conte comigo deputado   \n",
       "7   1550283468990472194        @joaopcnogueira Cara pálida vou votar em vc   \n",
       "8   1550283468990472194         @joaopcnogueira O João é escroto. Hahahaha   \n",
       "9   1550283468990472194                    @joaopcnogueira O João é bacana   \n",
       "10  1550283468990472194                   @joaopcnogueira O João é bacanoa   \n",
       "11  1550283468990472194                @joaopcnogueira Novo teste de tweet   \n",
       "12  1549897550953603074               @joaopcnogueira Novo qteste do tweet   \n",
       "\n",
       "        tweet_user          tweet_location  \n",
       "0   joaopcnogueira                          \n",
       "1        apachaves                  France  \n",
       "2   mribeirodantas         Natal, Brazil🇧🇷  \n",
       "3           annppn  Rio de Janeiro, Brazil  \n",
       "4           annppn  Rio de Janeiro, Brazil  \n",
       "5     UnrollHelper                          \n",
       "6         mamede86       São Paulo, Brasil  \n",
       "7         mamede86       São Paulo, Brasil  \n",
       "8         mamede86       São Paulo, Brasil  \n",
       "9         mamede86       São Paulo, Brasil  \n",
       "10        mamede86       São Paulo, Brasil  \n",
       "11        mamede86       São Paulo, Brasil  \n",
       "12        mamede86       São Paulo, Brasil  "
      ]
     },
     "execution_count": null,
     "metadata": {},
     "output_type": "execute_result"
    }
   ],
   "source": [
    "#|eval: false\n",
    "robot.get_all_replies(n_tweets=1000)"
   ]
  },
  {
   "cell_type": "code",
   "execution_count": null,
   "metadata": {},
   "outputs": [],
   "source": []
  }
 ],
 "metadata": {
  "kernelspec": {
   "display_name": "Python 3.9.12 ('twiplies-env')",
   "language": "python",
   "name": "python3"
  }
 },
 "nbformat": 4,
 "nbformat_minor": 4
}
