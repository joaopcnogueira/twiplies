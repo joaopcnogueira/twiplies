{
 "cells": [
  {
   "cell_type": "code",
   "execution_count": null,
   "metadata": {},
   "outputs": [],
   "source": [
    "#| default_exp core"
   ]
  },
  {
   "cell_type": "markdown",
   "metadata": {},
   "source": [
    "# core\n",
    "\n",
    "> Core functionality."
   ]
  },
  {
   "cell_type": "code",
   "execution_count": null,
   "metadata": {},
   "outputs": [],
   "source": [
    "#|hide\n",
    "from nbdev.showdoc import *"
   ]
  },
  {
   "cell_type": "code",
   "execution_count": null,
   "metadata": {},
   "outputs": [],
   "source": [
    "#|export\n",
    "import tweepy\n",
    "import pandas as pd\n",
    "from fastcore.utils import *\n",
    "\n",
    "class Twiplies:\n",
    "    \"Instantiate a Tweepy object to fetch tweets replies.\"\n",
    "    def __init__(self, \n",
    "                 username, # twitter's account username\n",
    "                 consumer_key, # twitter's account consumer_key\n",
    "                 consumer_secret, # twiter's account consumer_secret\n",
    "                 access_token, # twitter's account access_token\n",
    "                 access_token_secret): # twitter's account access_token_secret \n",
    "        store_attr()\n",
    "        self.auth = tweepy.OAuthHandler(self.consumer_key, self.consumer_secret)\n",
    "        self.auth.set_access_token(self.access_token, self.access_token_secret)\n",
    "        self.api = tweepy.API(self.auth)\n",
    "    def __str__(self): return f\"{self.username}\"\n",
    "    __repr__ = __str__\n",
    "\n",
    "    def get_replies_from_tweet(self, tweet_id):\n",
    "        \"\"\"Get replies from a specfic tweet.\"\"\"\n",
    "        tweet_ids = []\n",
    "        replies = []\n",
    "        for tweet in tweepy.Cursor(self.api.search_tweets, q='to:'+self.username, result_type='recent').items(10000):\n",
    "            if (tweet.in_reply_to_status_id_str==tweet_id):\n",
    "                tweet_ids.append(tweet.in_reply_to_status_id_str)\n",
    "                replies.append(tweet)\n",
    "\n",
    "        df = pd.DataFrame({\n",
    "            'tweet_original': [tweet_id for tweet_id in tweet_ids],\n",
    "            'tweet_replies': [reply.text for reply in replies],\n",
    "            'tweet_user': [reply.user.screen_name for reply in replies],\n",
    "            'tweet_location': [reply.user.location for reply in replies]\n",
    "        })\n",
    "\n",
    "        return df"
   ]
  },
  {
   "cell_type": "code",
   "execution_count": null,
   "metadata": {},
   "outputs": [
    {
     "data": {
      "text/markdown": [
       "---\n",
       "\n",
       "### Twiplies\n",
       "\n",
       ">      Twiplies (username, consumer_key, consumer_secret, access_token,\n",
       ">                access_token_secret)\n",
       "\n",
       "Instantiate a Tweepy object to fetch tweets replies.\n",
       "\n",
       "|    | **Details** |\n",
       "| -- | ----------- |\n",
       "| username | twitter's account username |\n",
       "| consumer_key | twitter's account consumer_key |\n",
       "| consumer_secret | twiter's account consumer_secret |\n",
       "| access_token | twitter's account access_token |\n",
       "| access_token_secret | twitter's account access_token_secret |"
      ],
      "text/plain": [
       "<nbdev.showdoc.BasicMarkdownRenderer at 0x1194b7400>"
      ]
     },
     "execution_count": null,
     "metadata": {},
     "output_type": "execute_result"
    }
   ],
   "source": [
    "show_doc(Twiplies)"
   ]
  },
  {
   "cell_type": "code",
   "execution_count": null,
   "metadata": {},
   "outputs": [
    {
     "data": {
      "text/markdown": [
       "---\n",
       "\n",
       "#### Twiplies.get_replies_from_tweet\n",
       "\n",
       ">      Twiplies.get_replies_from_tweet (tweet_id)\n",
       "\n",
       "Get replies from a specfic tweet."
      ],
      "text/plain": [
       "<nbdev.showdoc.BasicMarkdownRenderer at 0x13eecff70>"
      ]
     },
     "execution_count": null,
     "metadata": {},
     "output_type": "execute_result"
    }
   ],
   "source": [
    "show_doc(Twiplies.get_replies_from_tweet)"
   ]
  },
  {
   "cell_type": "code",
   "execution_count": null,
   "metadata": {},
   "outputs": [],
   "source": []
  }
 ],
 "metadata": {
  "kernelspec": {
   "display_name": "Python 3.9.12 ('twiplies-env')",
   "language": "python",
   "name": "python3"
  }
 },
 "nbformat": 4,
 "nbformat_minor": 4
}
