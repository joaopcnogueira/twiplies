{
 "cells": [
  {
   "cell_type": "code",
   "execution_count": null,
   "metadata": {},
   "outputs": [],
   "source": [
    "#| default_exp core"
   ]
  },
  {
   "cell_type": "markdown",
   "metadata": {},
   "source": [
    "# Core\n",
    "\n",
    "> Core functionality."
   ]
  },
  {
   "cell_type": "code",
   "execution_count": null,
   "metadata": {},
   "outputs": [],
   "source": [
    "#|hide\n",
    "from nbdev.showdoc import *"
   ]
  },
  {
   "cell_type": "code",
   "execution_count": null,
   "metadata": {},
   "outputs": [],
   "source": [
    "#|export\n",
    "import tweepy\n",
    "import pandas as pd\n",
    "from fastcore.utils import *\n",
    "\n",
    "class Twiplies:\n",
    "    \"Instantiate a Tweepy object to fetch tweets replies.\"\n",
    "    def __init__(self, \n",
    "                 username, # twitter's account username\n",
    "                 consumer_key, # twitter's account consumer_key\n",
    "                 consumer_secret, # twiter's account consumer_secret\n",
    "                 access_token, # twitter's account access_token\n",
    "                 access_token_secret): # twitter's account access_token_secret \n",
    "        store_attr()\n",
    "        self.auth = tweepy.OAuthHandler(self.consumer_key, self.consumer_secret)\n",
    "        self.auth.set_access_token(self.access_token, self.access_token_secret)\n",
    "        self.api = tweepy.API(self.auth)\n",
    "    def __str__(self): return f\"{self.username}\"\n",
    "    __repr__ = __str__\n",
    "\n",
    "    def get_replies_from_tweet(self, \n",
    "                              tweet_id): # tweet id, you can get it from the last part of the tweet url\n",
    "        \"\"\"Get replies from a specfic tweet.\"\"\"\n",
    "        tweet_ids = []\n",
    "        replies = []\n",
    "        for tweet in tweepy.Cursor(self.api.search_tweets, q='to:'+self.username, result_type='recent').items(10000):\n",
    "            if (tweet.in_reply_to_status_id_str==tweet_id):\n",
    "                tweet_ids.append(tweet.in_reply_to_status_id_str)\n",
    "                replies.append(tweet)\n",
    "\n",
    "        df = pd.DataFrame({\n",
    "            'tweet_original': [tweet_id for tweet_id in tweet_ids],\n",
    "            'tweet_replies': [reply.text for reply in replies],\n",
    "            'tweet_user': [reply.user.screen_name for reply in replies],\n",
    "            'tweet_location': [reply.user.location for reply in replies]\n",
    "        })\n",
    "\n",
    "        return df"
   ]
  },
  {
   "cell_type": "code",
   "execution_count": null,
   "metadata": {},
   "outputs": [
    {
     "data": {
      "text/markdown": [
       "---\n",
       "\n",
       "### Twiplies\n",
       "\n",
       ">      Twiplies (username, consumer_key, consumer_secret, access_token,\n",
       ">                access_token_secret)\n",
       "\n",
       "Instantiate a Tweepy object to fetch tweets replies.\n",
       "\n",
       "|    | **Details** |\n",
       "| -- | ----------- |\n",
       "| username | twitter's account username |\n",
       "| consumer_key | twitter's account consumer_key |\n",
       "| consumer_secret | twiter's account consumer_secret |\n",
       "| access_token | twitter's account access_token |\n",
       "| access_token_secret | twitter's account access_token_secret |"
      ],
      "text/plain": [
       "<nbdev.showdoc.BasicMarkdownRenderer at 0x1060e0f70>"
      ]
     },
     "execution_count": null,
     "metadata": {},
     "output_type": "execute_result"
    }
   ],
   "source": [
    "show_doc(Twiplies)"
   ]
  },
  {
   "cell_type": "code",
   "execution_count": null,
   "metadata": {},
   "outputs": [
    {
     "data": {
      "text/markdown": [
       "---\n",
       "\n",
       "#### Twiplies.get_replies_from_tweet\n",
       "\n",
       ">      Twiplies.get_replies_from_tweet (tweet_id)\n",
       "\n",
       "Get replies from a specfic tweet."
      ],
      "text/plain": [
       "<nbdev.showdoc.BasicMarkdownRenderer at 0x10627f790>"
      ]
     },
     "execution_count": null,
     "metadata": {},
     "output_type": "execute_result"
    }
   ],
   "source": [
    "show_doc(Twiplies.get_replies_from_tweet)"
   ]
  },
  {
   "cell_type": "markdown",
   "metadata": {},
   "source": [
    "# How to Use\n",
    "Example on how to use `twiplies`:"
   ]
  },
  {
   "cell_type": "code",
   "execution_count": null,
   "metadata": {},
   "outputs": [],
   "source": [
    "#|eval: false\n",
    "from dotenv import dotenv_values\n",
    "\n",
    "config = dotenv_values(\"../.env\")\n",
    "\n",
    "robot = Twiplies(\n",
    "    username=\"joaopcnogueira\",\n",
    "    consumer_key=config[\"consumer_key\"],\n",
    "    consumer_secret=config[\"consumer_secret\"],\n",
    "    access_token=config[\"access_token\"],\n",
    "    access_token_secret=config[\"access_token_secret\"]\n",
    ")"
   ]
  },
  {
   "cell_type": "code",
   "execution_count": null,
   "metadata": {},
   "outputs": [
    {
     "data": {
      "text/html": [
       "<div>\n",
       "<style scoped>\n",
       "    .dataframe tbody tr th:only-of-type {\n",
       "        vertical-align: middle;\n",
       "    }\n",
       "\n",
       "    .dataframe tbody tr th {\n",
       "        vertical-align: top;\n",
       "    }\n",
       "\n",
       "    .dataframe thead th {\n",
       "        text-align: right;\n",
       "    }\n",
       "</style>\n",
       "<table border=\"1\" class=\"dataframe\">\n",
       "  <thead>\n",
       "    <tr style=\"text-align: right;\">\n",
       "      <th></th>\n",
       "      <th>tweet_original</th>\n",
       "      <th>tweet_replies</th>\n",
       "      <th>tweet_user</th>\n",
       "      <th>tweet_location</th>\n",
       "    </tr>\n",
       "  </thead>\n",
       "  <tbody>\n",
       "    <tr>\n",
       "      <th>0</th>\n",
       "      <td>1550283468990472194</td>\n",
       "      <td>@joaopcnogueira Conte comigo deputado</td>\n",
       "      <td>mamede86</td>\n",
       "      <td>São Paulo, Brasil</td>\n",
       "    </tr>\n",
       "    <tr>\n",
       "      <th>1</th>\n",
       "      <td>1550283468990472194</td>\n",
       "      <td>@joaopcnogueira Cara pálida vou votar em vc</td>\n",
       "      <td>mamede86</td>\n",
       "      <td>São Paulo, Brasil</td>\n",
       "    </tr>\n",
       "    <tr>\n",
       "      <th>2</th>\n",
       "      <td>1550283468990472194</td>\n",
       "      <td>@joaopcnogueira O João é escroto. Hahahaha</td>\n",
       "      <td>mamede86</td>\n",
       "      <td>São Paulo, Brasil</td>\n",
       "    </tr>\n",
       "    <tr>\n",
       "      <th>3</th>\n",
       "      <td>1550283468990472194</td>\n",
       "      <td>@joaopcnogueira O João é bacana</td>\n",
       "      <td>mamede86</td>\n",
       "      <td>São Paulo, Brasil</td>\n",
       "    </tr>\n",
       "    <tr>\n",
       "      <th>4</th>\n",
       "      <td>1550283468990472194</td>\n",
       "      <td>@joaopcnogueira O João é bacanoa</td>\n",
       "      <td>mamede86</td>\n",
       "      <td>São Paulo, Brasil</td>\n",
       "    </tr>\n",
       "    <tr>\n",
       "      <th>5</th>\n",
       "      <td>1550283468990472194</td>\n",
       "      <td>@joaopcnogueira Novo teste de tweet</td>\n",
       "      <td>mamede86</td>\n",
       "      <td>São Paulo, Brasil</td>\n",
       "    </tr>\n",
       "  </tbody>\n",
       "</table>\n",
       "</div>"
      ],
      "text/plain": [
       "        tweet_original                                tweet_replies  \\\n",
       "0  1550283468990472194        @joaopcnogueira Conte comigo deputado   \n",
       "1  1550283468990472194  @joaopcnogueira Cara pálida vou votar em vc   \n",
       "2  1550283468990472194   @joaopcnogueira O João é escroto. Hahahaha   \n",
       "3  1550283468990472194              @joaopcnogueira O João é bacana   \n",
       "4  1550283468990472194             @joaopcnogueira O João é bacanoa   \n",
       "5  1550283468990472194          @joaopcnogueira Novo teste de tweet   \n",
       "\n",
       "  tweet_user     tweet_location  \n",
       "0   mamede86  São Paulo, Brasil  \n",
       "1   mamede86  São Paulo, Brasil  \n",
       "2   mamede86  São Paulo, Brasil  \n",
       "3   mamede86  São Paulo, Brasil  \n",
       "4   mamede86  São Paulo, Brasil  \n",
       "5   mamede86  São Paulo, Brasil  "
      ]
     },
     "execution_count": null,
     "metadata": {},
     "output_type": "execute_result"
    }
   ],
   "source": [
    "#|eval: false\n",
    "robot.get_replies_from_tweet(tweet_id='1550283468990472194')"
   ]
  },
  {
   "cell_type": "code",
   "execution_count": null,
   "metadata": {},
   "outputs": [],
   "source": []
  }
 ],
 "metadata": {
  "kernelspec": {
   "display_name": "Python 3.9.12 ('twiplies-env')",
   "language": "python",
   "name": "python3"
  }
 },
 "nbformat": 4,
 "nbformat_minor": 4
}
