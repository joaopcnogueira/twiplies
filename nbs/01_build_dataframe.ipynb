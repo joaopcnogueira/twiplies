{
 "cells": [
  {
   "cell_type": "code",
   "execution_count": null,
   "metadata": {},
   "outputs": [],
   "source": [
    "#| default_exp io.build_dataframe"
   ]
  },
  {
   "cell_type": "markdown",
   "metadata": {},
   "source": [
    "# IO Tools\n",
    "\n",
    "> Tools to manage input and output results."
   ]
  },
  {
   "cell_type": "code",
   "execution_count": null,
   "metadata": {},
   "outputs": [],
   "source": [
    "#|export\n",
    "import pandas as pd\n",
    "from typing import List\n",
    "\n",
    "\n",
    "def build_dataframe(tweet_ids: List, replies: List):\n",
    "    \"Build a dataframe with each tweet's replies for line.\"\n",
    "    \n",
    "    df = pd.DataFrame({\n",
    "        'tweet_original': [tweet_id for tweet_id in tweet_ids],\n",
    "        'tweet_replies': [reply.text for reply in replies],\n",
    "        'tweet_user': [reply.user.screen_name for reply in replies],\n",
    "        'tweet_location': [reply.user.location for reply in replies]\n",
    "    })\n",
    "\n",
    "    return df"
   ]
  }
 ],
 "metadata": {
  "kernelspec": {
   "display_name": "Python 3.9.12 ('twiplies-env')",
   "language": "python",
   "name": "python3"
  }
 },
 "nbformat": 4,
 "nbformat_minor": 2
}
