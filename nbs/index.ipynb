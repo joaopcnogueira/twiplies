{
 "cells": [
  {
   "cell_type": "code",
   "execution_count": null,
   "metadata": {},
   "outputs": [],
   "source": [
    "#|hide\n",
    "from twiplies.core import *"
   ]
  },
  {
   "cell_type": "code",
   "execution_count": null,
   "metadata": {},
   "outputs": [],
   "source": [
    "#|hide\n",
    "%load_ext autoreload\n",
    "%autoreload 2"
   ]
  },
  {
   "cell_type": "markdown",
   "metadata": {},
   "source": [
    "# Getting Started\n",
    "\n",
    "> twiplies - Get tweets replies."
   ]
  },
  {
   "cell_type": "markdown",
   "metadata": {},
   "source": [
    "## Install"
   ]
  },
  {
   "cell_type": "markdown",
   "metadata": {},
   "source": [
    "`pip install twiplies`"
   ]
  },
  {
   "cell_type": "markdown",
   "metadata": {},
   "source": [
    "## How to use"
   ]
  },
  {
   "cell_type": "code",
   "execution_count": null,
   "metadata": {},
   "outputs": [],
   "source": [
    "from twiplies.core import Twiplies"
   ]
  },
  {
   "cell_type": "code",
   "execution_count": null,
   "metadata": {},
   "outputs": [],
   "source": [
    "import os\n",
    "from dotenv import load_dotenv\n",
    "\n",
    "load_dotenv()\n",
    "\n",
    "robot = Twiplies(\n",
    "    username=\"joaopcnogueira\",\n",
    "    consumer_key=os.getenv(\"CONSUMER_KEY\"),\n",
    "    consumer_secret=os.getenv(\"CONSUMER_SECRET\"),\n",
    "    access_token=os.getenv(\"ACCESS_TOKEN\"),\n",
    "    access_token_secret=os.getenv(\"ACCESS_TOKEN_SECRET\")\n",
    ")"
   ]
  },
  {
   "cell_type": "code",
   "execution_count": null,
   "metadata": {},
   "outputs": [
    {
     "data": {
      "text/plain": [
       "Twiplies(username='joaopcnogueira')"
      ]
     },
     "execution_count": null,
     "metadata": {},
     "output_type": "execute_result"
    }
   ],
   "source": [
    "robot"
   ]
  },
  {
   "cell_type": "markdown",
   "metadata": {},
   "source": [
    "Get tweet's replies from a specific `tweet_id`:"
   ]
  },
  {
   "cell_type": "code",
   "execution_count": null,
   "metadata": {},
   "outputs": [
    {
     "data": {
      "text/html": [
       "<div>\n",
       "<style scoped>\n",
       "    .dataframe tbody tr th:only-of-type {\n",
       "        vertical-align: middle;\n",
       "    }\n",
       "\n",
       "    .dataframe tbody tr th {\n",
       "        vertical-align: top;\n",
       "    }\n",
       "\n",
       "    .dataframe thead th {\n",
       "        text-align: right;\n",
       "    }\n",
       "</style>\n",
       "<table border=\"1\" class=\"dataframe\">\n",
       "  <thead>\n",
       "    <tr style=\"text-align: right;\">\n",
       "      <th></th>\n",
       "      <th>tweet_original</th>\n",
       "      <th>tweet_replies</th>\n",
       "      <th>tweet_user</th>\n",
       "      <th>tweet_location</th>\n",
       "    </tr>\n",
       "  </thead>\n",
       "  <tbody>\n",
       "  </tbody>\n",
       "</table>\n",
       "</div>"
      ],
      "text/plain": [
       "Empty DataFrame\n",
       "Columns: [tweet_original, tweet_replies, tweet_user, tweet_location]\n",
       "Index: []"
      ]
     },
     "execution_count": null,
     "metadata": {},
     "output_type": "execute_result"
    }
   ],
   "source": [
    "robot.get_replies_from_tweet(tweet_id='1550283468990472194', n_tweets=100)"
   ]
  },
  {
   "cell_type": "markdown",
   "metadata": {},
   "source": [
    "Get tweet's replies from all twitters from an user:"
   ]
  },
  {
   "cell_type": "code",
   "execution_count": null,
   "metadata": {},
   "outputs": [
    {
     "data": {
      "text/html": [
       "<div>\n",
       "<style scoped>\n",
       "    .dataframe tbody tr th:only-of-type {\n",
       "        vertical-align: middle;\n",
       "    }\n",
       "\n",
       "    .dataframe tbody tr th {\n",
       "        vertical-align: top;\n",
       "    }\n",
       "\n",
       "    .dataframe thead th {\n",
       "        text-align: right;\n",
       "    }\n",
       "</style>\n",
       "<table border=\"1\" class=\"dataframe\">\n",
       "  <thead>\n",
       "    <tr style=\"text-align: right;\">\n",
       "      <th></th>\n",
       "      <th>tweet_original</th>\n",
       "      <th>tweet_replies</th>\n",
       "      <th>tweet_user</th>\n",
       "      <th>tweet_location</th>\n",
       "    </tr>\n",
       "  </thead>\n",
       "  <tbody>\n",
       "    <tr>\n",
       "      <th>0</th>\n",
       "      <td>1553619245552091136</td>\n",
       "      <td>@jeremyphoward Did I forgot to mention all of ...</td>\n",
       "      <td>joaopcnogueira</td>\n",
       "      <td></td>\n",
       "    </tr>\n",
       "    <tr>\n",
       "      <th>1</th>\n",
       "      <td>1553412331845160962</td>\n",
       "      <td>@joaopcnogueira @arnaldog12_ Olha só, não esta...</td>\n",
       "      <td>apachaves</td>\n",
       "      <td>France</td>\n",
       "    </tr>\n",
       "    <tr>\n",
       "      <th>2</th>\n",
       "      <td>1552333709717786625</td>\n",
       "      <td>@joaopcnogueira 🥲</td>\n",
       "      <td>mribeirodantas</td>\n",
       "      <td>Natal, Brazil🇧🇷</td>\n",
       "    </tr>\n",
       "    <tr>\n",
       "      <th>3</th>\n",
       "      <td>1552112385065877504</td>\n",
       "      <td>@joaopcnogueira não 😣</td>\n",
       "      <td>annppn</td>\n",
       "      <td>Rio de Janeiro, Brazil</td>\n",
       "    </tr>\n",
       "    <tr>\n",
       "      <th>4</th>\n",
       "      <td>1552109783393751042</td>\n",
       "      <td>@joaopcnogueira Sim! O carregador não posso ma...</td>\n",
       "      <td>annppn</td>\n",
       "      <td>Rio de Janeiro, Brazil</td>\n",
       "    </tr>\n",
       "    <tr>\n",
       "      <th>5</th>\n",
       "      <td>1550922456625463296</td>\n",
       "      <td>@joaopcnogueira Salam, here is your unroll: ht...</td>\n",
       "      <td>UnrollHelper</td>\n",
       "      <td></td>\n",
       "    </tr>\n",
       "  </tbody>\n",
       "</table>\n",
       "</div>"
      ],
      "text/plain": [
       "        tweet_original                                      tweet_replies  \\\n",
       "0  1553619245552091136  @jeremyphoward Did I forgot to mention all of ...   \n",
       "1  1553412331845160962  @joaopcnogueira @arnaldog12_ Olha só, não esta...   \n",
       "2  1552333709717786625                                  @joaopcnogueira 🥲   \n",
       "3  1552112385065877504                              @joaopcnogueira não 😣   \n",
       "4  1552109783393751042  @joaopcnogueira Sim! O carregador não posso ma...   \n",
       "5  1550922456625463296  @joaopcnogueira Salam, here is your unroll: ht...   \n",
       "\n",
       "       tweet_user          tweet_location  \n",
       "0  joaopcnogueira                          \n",
       "1       apachaves                  France  \n",
       "2  mribeirodantas         Natal, Brazil🇧🇷  \n",
       "3          annppn  Rio de Janeiro, Brazil  \n",
       "4          annppn  Rio de Janeiro, Brazil  \n",
       "5    UnrollHelper                          "
      ]
     },
     "execution_count": null,
     "metadata": {},
     "output_type": "execute_result"
    }
   ],
   "source": [
    "robot.get_all_replies(n_tweets=1000)"
   ]
  },
  {
   "cell_type": "code",
   "execution_count": null,
   "metadata": {},
   "outputs": [],
   "source": []
  }
 ],
 "metadata": {
  "kernelspec": {
   "display_name": "Python 3.9.12 ('twiplies-env')",
   "language": "python",
   "name": "python3"
  }
 },
 "nbformat": 4,
 "nbformat_minor": 4
}
