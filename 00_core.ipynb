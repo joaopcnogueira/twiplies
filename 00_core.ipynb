{
 "cells": [
  {
   "cell_type": "code",
   "execution_count": null,
   "metadata": {},
   "outputs": [],
   "source": [
    "#| default_exp core"
   ]
  },
  {
   "cell_type": "markdown",
   "metadata": {},
   "source": [
    "# core\n",
    "\n",
    "> Core functionality."
   ]
  },
  {
   "cell_type": "code",
   "execution_count": null,
   "metadata": {},
   "outputs": [],
   "source": [
    "#|hide\n",
    "from nbdev.showdoc import *"
   ]
  },
  {
   "cell_type": "code",
   "execution_count": null,
   "metadata": {},
   "outputs": [],
   "source": [
    "#|export\n",
    "import tweepy\n",
    "import pandas as pd\n",
    "from fastcore.utils import *\n",
    "\n",
    "class Twiplies:\n",
    "    def __init__(self, username, consumer_key, consumer_secret, access_token, access_token_secret):\n",
    "        store_attr()\n",
    "        self.auth = tweepy.OAuthHandler(self.consumer_key, self.consumer_secret)\n",
    "        self.auth.set_access_token(self.access_token, self.access_token_secret)\n",
    "        self.api = tweepy.API(self.auth)\n",
    "    __repr__ = basic_repr('username')\n",
    "\n",
    "    def get_replies_from_tweet(self, tweet_id):\n",
    "        tweet_ids = []\n",
    "        replies = []\n",
    "        for tweet in tweepy.Cursor(self.api.search_tweets, q='to:'+self.username, result_type='recent').items(10000):\n",
    "            if (tweet.in_reply_to_status_id_str==tweet_id):\n",
    "                tweet_ids.append(tweet.in_reply_to_status_id_str)\n",
    "                replies.append(tweet)\n",
    "\n",
    "        df = pd.DataFrame({\n",
    "            'tweet_original': [tweet_id for tweet_id in tweet_ids],\n",
    "            'tweet_replies': [reply.text for reply in replies],\n",
    "            'tweet_user': [reply.user.screen_name for reply in replies],\n",
    "            'tweet_location': [reply.user.location for reply in replies]\n",
    "        })\n",
    "\n",
    "        return df\n"
   ]
  },
  {
   "cell_type": "code",
   "execution_count": null,
   "metadata": {},
   "outputs": [],
   "source": [
    "#|hide\n",
    "from dotenv import dotenv_values\n",
    "\n",
    "config = dotenv_values(\".env\")\n",
    "\n",
    "robot = Twiplies(\n",
    "    username='joaopcnogueira',\n",
    "    consumer_key=config[\"consumer_key\"], \n",
    "    consumer_secret=config[\"consumer_secret\"], \n",
    "    access_token=config[\"access_token\"], \n",
    "    access_token_secret=config[\"access_token_secret\"]\n",
    ")"
   ]
  },
  {
   "cell_type": "code",
   "execution_count": null,
   "metadata": {},
   "outputs": [
    {
     "data": {
      "text/plain": [
       "Twiplies(username='joaopcnogueira')"
      ]
     },
     "execution_count": null,
     "metadata": {},
     "output_type": "execute_result"
    }
   ],
   "source": [
    "#|hide\n",
    "robot"
   ]
  },
  {
   "cell_type": "code",
   "execution_count": null,
   "metadata": {},
   "outputs": [
    {
     "data": {
      "text/html": [
       "<div>\n",
       "<style scoped>\n",
       "    .dataframe tbody tr th:only-of-type {\n",
       "        vertical-align: middle;\n",
       "    }\n",
       "\n",
       "    .dataframe tbody tr th {\n",
       "        vertical-align: top;\n",
       "    }\n",
       "\n",
       "    .dataframe thead th {\n",
       "        text-align: right;\n",
       "    }\n",
       "</style>\n",
       "<table border=\"1\" class=\"dataframe\">\n",
       "  <thead>\n",
       "    <tr style=\"text-align: right;\">\n",
       "      <th></th>\n",
       "      <th>tweet_original</th>\n",
       "      <th>tweet_replies</th>\n",
       "      <th>tweet_user</th>\n",
       "      <th>tweet_location</th>\n",
       "    </tr>\n",
       "  </thead>\n",
       "  <tbody>\n",
       "    <tr>\n",
       "      <th>0</th>\n",
       "      <td>1549897550953603074</td>\n",
       "      <td>@joaopcnogueira Novo qteste do tweet</td>\n",
       "      <td>mamede86</td>\n",
       "      <td>São Paulo, Brasil</td>\n",
       "    </tr>\n",
       "  </tbody>\n",
       "</table>\n",
       "</div>"
      ],
      "text/plain": [
       "        tweet_original                         tweet_replies tweet_user  \\\n",
       "0  1549897550953603074  @joaopcnogueira Novo qteste do tweet   mamede86   \n",
       "\n",
       "      tweet_location  \n",
       "0  São Paulo, Brasil  "
      ]
     },
     "execution_count": null,
     "metadata": {},
     "output_type": "execute_result"
    }
   ],
   "source": [
    "#|hide\n",
    "robot.get_replies_from_tweet(tweet_id='1549897550953603074')"
   ]
  },
  {
   "cell_type": "code",
   "execution_count": null,
   "metadata": {},
   "outputs": [],
   "source": []
  }
 ],
 "metadata": {
  "kernelspec": {
   "display_name": "Python 3.9.12 ('twiplies-env')",
   "language": "python",
   "name": "python3"
  }
 },
 "nbformat": 4,
 "nbformat_minor": 4
}
